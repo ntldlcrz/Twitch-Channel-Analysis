{
  "nbformat": 4,
  "nbformat_minor": 0,
  "metadata": {
    "colab": {
      "provenance": []
    },
    "kernelspec": {
      "name": "python3",
      "display_name": "Python 3"
    },
    "language_info": {
      "name": "python"
    }
  },
  "cells": [
    {
      "cell_type": "markdown",
      "source": [
        "In a post-pandemic society, more people have sought out ways to share content and connect with other like-minded individuals now more than ever. Twitch, a popular live-streaming platform, has helped bridge the social disconnect. Through this service, anyone can become a streamer, or content creator, allowing thousands of new channels to be created daily. \n",
        "\n",
        "Channels/Streamers are rated either Mature, for an 18+ audience, or General, safe for viewing for all ages.\n",
        "\n",
        "Through the data, we will see if we can establish any correlation between Mature(18+) channels and Followers. We can also discover if there is a significant difference in the average Stream time(minutes)  between channels geared towards a Mature(18+) audience and those that are for a general, all-ages, audience?\n",
        "\n",
        "By analyzing the performance of Twitch’s top 1,000 streamers, information on audience and content features will help both new streamers and companies looking to endorse them on what trends succeed.\n",
        "\n",
        "Data source:\n",
        "https://www.kaggle.com/datasets/aayushmishra1512/twitchdata"
      ],
      "metadata": {
        "id": "X_Yk0k76Xtkq"
      }
    },
    {
      "cell_type": "code",
      "execution_count": null,
      "metadata": {
        "id": "_1YH9nVhBHlb",
        "colab": {
          "base_uri": "https://localhost:8080/"
        },
        "outputId": "755fbab8-5cf6-4ee9-e2fc-ea3529a4e113"
      },
      "outputs": [
        {
          "output_type": "stream",
          "name": "stdout",
          "text": [
            "Mounted at /content/gdrive/\n"
          ]
        }
      ],
      "source": [
        "import math \n",
        "import pandas as pd\n",
        "from scipy import stats\n",
        "import seaborn as sns \n",
        "import matplotlib.pyplot as plt\n",
        "sns.set()\n",
        "\n",
        "import warnings\n",
        "\n",
        "warnings.filterwarnings('ignore')\n",
        "\n",
        "from google.colab import drive\n",
        "drive.mount('/content/gdrive/')"
      ]
    },
    {
      "cell_type": "code",
      "source": [
        "twitch_df = pd.read_csv('/content/gdrive/My Drive/Colab Notebooks/twitchdata-update.csv')"
      ],
      "metadata": {
        "id": "egxB_yYP22SM"
      },
      "execution_count": null,
      "outputs": []
    },
    {
      "cell_type": "code",
      "source": [
        "twitch_df.info()"
      ],
      "metadata": {
        "id": "sNriMTpoJy1w",
        "colab": {
          "base_uri": "https://localhost:8080/"
        },
        "outputId": "08d68d97-057e-4ce5-dacc-f81b5f662726"
      },
      "execution_count": null,
      "outputs": [
        {
          "output_type": "stream",
          "name": "stdout",
          "text": [
            "<class 'pandas.core.frame.DataFrame'>\n",
            "RangeIndex: 1000 entries, 0 to 999\n",
            "Data columns (total 11 columns):\n",
            " #   Column                Non-Null Count  Dtype \n",
            "---  ------                --------------  ----- \n",
            " 0   Channel               1000 non-null   object\n",
            " 1   Watch time(Minutes)   1000 non-null   int64 \n",
            " 2   Stream time(minutes)  1000 non-null   int64 \n",
            " 3   Peak viewers          1000 non-null   int64 \n",
            " 4   Average viewers       1000 non-null   int64 \n",
            " 5   Followers             1000 non-null   int64 \n",
            " 6   Followers gained      1000 non-null   int64 \n",
            " 7   Views gained          1000 non-null   int64 \n",
            " 8   Partnered             1000 non-null   bool  \n",
            " 9   Mature                1000 non-null   bool  \n",
            " 10  Language              1000 non-null   object\n",
            "dtypes: bool(2), int64(7), object(2)\n",
            "memory usage: 72.4+ KB\n"
          ]
        }
      ]
    },
    {
      "cell_type": "code",
      "source": [
        "twitch_df.head()"
      ],
      "metadata": {
        "id": "sdkWyRwqGpg9",
        "colab": {
          "base_uri": "https://localhost:8080/",
          "height": 206
        },
        "outputId": "0c962081-e465-44fa-c286-0443344df8be"
      },
      "execution_count": null,
      "outputs": [
        {
          "output_type": "execute_result",
          "data": {
            "text/plain": [
              "    Channel  Watch time(Minutes)  Stream time(minutes)  Peak viewers  \\\n",
              "0     xQcOW           6196161750                215250        222720   \n",
              "1  summit1g           6091677300                211845        310998   \n",
              "2    Gaules           5644590915                515280        387315   \n",
              "3  ESL_CSGO           3970318140                517740        300575   \n",
              "4      Tfue           3671000070                123660        285644   \n",
              "\n",
              "   Average viewers  Followers  Followers gained  Views gained  Partnered  \\\n",
              "0            27716    3246298           1734810      93036735       True   \n",
              "1            25610    5310163           1370184      89705964       True   \n",
              "2            10976    1767635           1023779     102611607       True   \n",
              "3             7714    3944850            703986     106546942       True   \n",
              "4            29602    8938903           2068424      78998587       True   \n",
              "\n",
              "   Mature    Language  \n",
              "0   False     English  \n",
              "1   False     English  \n",
              "2    True  Portuguese  \n",
              "3   False     English  \n",
              "4   False     English  "
            ],
            "text/html": [
              "\n",
              "  <div id=\"df-8f953fa1-7e73-448f-a46c-18d8706d24fc\">\n",
              "    <div class=\"colab-df-container\">\n",
              "      <div>\n",
              "<style scoped>\n",
              "    .dataframe tbody tr th:only-of-type {\n",
              "        vertical-align: middle;\n",
              "    }\n",
              "\n",
              "    .dataframe tbody tr th {\n",
              "        vertical-align: top;\n",
              "    }\n",
              "\n",
              "    .dataframe thead th {\n",
              "        text-align: right;\n",
              "    }\n",
              "</style>\n",
              "<table border=\"1\" class=\"dataframe\">\n",
              "  <thead>\n",
              "    <tr style=\"text-align: right;\">\n",
              "      <th></th>\n",
              "      <th>Channel</th>\n",
              "      <th>Watch time(Minutes)</th>\n",
              "      <th>Stream time(minutes)</th>\n",
              "      <th>Peak viewers</th>\n",
              "      <th>Average viewers</th>\n",
              "      <th>Followers</th>\n",
              "      <th>Followers gained</th>\n",
              "      <th>Views gained</th>\n",
              "      <th>Partnered</th>\n",
              "      <th>Mature</th>\n",
              "      <th>Language</th>\n",
              "    </tr>\n",
              "  </thead>\n",
              "  <tbody>\n",
              "    <tr>\n",
              "      <th>0</th>\n",
              "      <td>xQcOW</td>\n",
              "      <td>6196161750</td>\n",
              "      <td>215250</td>\n",
              "      <td>222720</td>\n",
              "      <td>27716</td>\n",
              "      <td>3246298</td>\n",
              "      <td>1734810</td>\n",
              "      <td>93036735</td>\n",
              "      <td>True</td>\n",
              "      <td>False</td>\n",
              "      <td>English</td>\n",
              "    </tr>\n",
              "    <tr>\n",
              "      <th>1</th>\n",
              "      <td>summit1g</td>\n",
              "      <td>6091677300</td>\n",
              "      <td>211845</td>\n",
              "      <td>310998</td>\n",
              "      <td>25610</td>\n",
              "      <td>5310163</td>\n",
              "      <td>1370184</td>\n",
              "      <td>89705964</td>\n",
              "      <td>True</td>\n",
              "      <td>False</td>\n",
              "      <td>English</td>\n",
              "    </tr>\n",
              "    <tr>\n",
              "      <th>2</th>\n",
              "      <td>Gaules</td>\n",
              "      <td>5644590915</td>\n",
              "      <td>515280</td>\n",
              "      <td>387315</td>\n",
              "      <td>10976</td>\n",
              "      <td>1767635</td>\n",
              "      <td>1023779</td>\n",
              "      <td>102611607</td>\n",
              "      <td>True</td>\n",
              "      <td>True</td>\n",
              "      <td>Portuguese</td>\n",
              "    </tr>\n",
              "    <tr>\n",
              "      <th>3</th>\n",
              "      <td>ESL_CSGO</td>\n",
              "      <td>3970318140</td>\n",
              "      <td>517740</td>\n",
              "      <td>300575</td>\n",
              "      <td>7714</td>\n",
              "      <td>3944850</td>\n",
              "      <td>703986</td>\n",
              "      <td>106546942</td>\n",
              "      <td>True</td>\n",
              "      <td>False</td>\n",
              "      <td>English</td>\n",
              "    </tr>\n",
              "    <tr>\n",
              "      <th>4</th>\n",
              "      <td>Tfue</td>\n",
              "      <td>3671000070</td>\n",
              "      <td>123660</td>\n",
              "      <td>285644</td>\n",
              "      <td>29602</td>\n",
              "      <td>8938903</td>\n",
              "      <td>2068424</td>\n",
              "      <td>78998587</td>\n",
              "      <td>True</td>\n",
              "      <td>False</td>\n",
              "      <td>English</td>\n",
              "    </tr>\n",
              "  </tbody>\n",
              "</table>\n",
              "</div>\n",
              "      <button class=\"colab-df-convert\" onclick=\"convertToInteractive('df-8f953fa1-7e73-448f-a46c-18d8706d24fc')\"\n",
              "              title=\"Convert this dataframe to an interactive table.\"\n",
              "              style=\"display:none;\">\n",
              "        \n",
              "  <svg xmlns=\"http://www.w3.org/2000/svg\" height=\"24px\"viewBox=\"0 0 24 24\"\n",
              "       width=\"24px\">\n",
              "    <path d=\"M0 0h24v24H0V0z\" fill=\"none\"/>\n",
              "    <path d=\"M18.56 5.44l.94 2.06.94-2.06 2.06-.94-2.06-.94-.94-2.06-.94 2.06-2.06.94zm-11 1L8.5 8.5l.94-2.06 2.06-.94-2.06-.94L8.5 2.5l-.94 2.06-2.06.94zm10 10l.94 2.06.94-2.06 2.06-.94-2.06-.94-.94-2.06-.94 2.06-2.06.94z\"/><path d=\"M17.41 7.96l-1.37-1.37c-.4-.4-.92-.59-1.43-.59-.52 0-1.04.2-1.43.59L10.3 9.45l-7.72 7.72c-.78.78-.78 2.05 0 2.83L4 21.41c.39.39.9.59 1.41.59.51 0 1.02-.2 1.41-.59l7.78-7.78 2.81-2.81c.8-.78.8-2.07 0-2.86zM5.41 20L4 18.59l7.72-7.72 1.47 1.35L5.41 20z\"/>\n",
              "  </svg>\n",
              "      </button>\n",
              "      \n",
              "  <style>\n",
              "    .colab-df-container {\n",
              "      display:flex;\n",
              "      flex-wrap:wrap;\n",
              "      gap: 12px;\n",
              "    }\n",
              "\n",
              "    .colab-df-convert {\n",
              "      background-color: #E8F0FE;\n",
              "      border: none;\n",
              "      border-radius: 50%;\n",
              "      cursor: pointer;\n",
              "      display: none;\n",
              "      fill: #1967D2;\n",
              "      height: 32px;\n",
              "      padding: 0 0 0 0;\n",
              "      width: 32px;\n",
              "    }\n",
              "\n",
              "    .colab-df-convert:hover {\n",
              "      background-color: #E2EBFA;\n",
              "      box-shadow: 0px 1px 2px rgba(60, 64, 67, 0.3), 0px 1px 3px 1px rgba(60, 64, 67, 0.15);\n",
              "      fill: #174EA6;\n",
              "    }\n",
              "\n",
              "    [theme=dark] .colab-df-convert {\n",
              "      background-color: #3B4455;\n",
              "      fill: #D2E3FC;\n",
              "    }\n",
              "\n",
              "    [theme=dark] .colab-df-convert:hover {\n",
              "      background-color: #434B5C;\n",
              "      box-shadow: 0px 1px 3px 1px rgba(0, 0, 0, 0.15);\n",
              "      filter: drop-shadow(0px 1px 2px rgba(0, 0, 0, 0.3));\n",
              "      fill: #FFFFFF;\n",
              "    }\n",
              "  </style>\n",
              "\n",
              "      <script>\n",
              "        const buttonEl =\n",
              "          document.querySelector('#df-8f953fa1-7e73-448f-a46c-18d8706d24fc button.colab-df-convert');\n",
              "        buttonEl.style.display =\n",
              "          google.colab.kernel.accessAllowed ? 'block' : 'none';\n",
              "\n",
              "        async function convertToInteractive(key) {\n",
              "          const element = document.querySelector('#df-8f953fa1-7e73-448f-a46c-18d8706d24fc');\n",
              "          const dataTable =\n",
              "            await google.colab.kernel.invokeFunction('convertToInteractive',\n",
              "                                                     [key], {});\n",
              "          if (!dataTable) return;\n",
              "\n",
              "          const docLinkHtml = 'Like what you see? Visit the ' +\n",
              "            '<a target=\"_blank\" href=https://colab.research.google.com/notebooks/data_table.ipynb>data table notebook</a>'\n",
              "            + ' to learn more about interactive tables.';\n",
              "          element.innerHTML = '';\n",
              "          dataTable['output_type'] = 'display_data';\n",
              "          await google.colab.output.renderOutput(dataTable, element);\n",
              "          const docLink = document.createElement('div');\n",
              "          docLink.innerHTML = docLinkHtml;\n",
              "          element.appendChild(docLink);\n",
              "        }\n",
              "      </script>\n",
              "    </div>\n",
              "  </div>\n",
              "  "
            ]
          },
          "metadata": {},
          "execution_count": 5
        }
      ]
    },
    {
      "cell_type": "code",
      "source": [
        "twitch_df.describe()"
      ],
      "metadata": {
        "id": "HLvxxANVJ5b8",
        "colab": {
          "base_uri": "https://localhost:8080/",
          "height": 300
        },
        "outputId": "8509fe0a-9ef2-4a5d-f36b-1e31db0aba25"
      },
      "execution_count": null,
      "outputs": [
        {
          "output_type": "execute_result",
          "data": {
            "text/plain": [
              "       Watch time(Minutes)  Stream time(minutes)   Peak viewers  \\\n",
              "count         1.000000e+03           1000.000000    1000.000000   \n",
              "mean          4.184279e+08         120515.160000   37065.051000   \n",
              "std           5.496355e+08          85376.201364   60314.307686   \n",
              "min           1.221928e+08           3465.000000     496.000000   \n",
              "25%           1.631899e+08          73758.750000    9113.750000   \n",
              "50%           2.349908e+08         108240.000000   16676.000000   \n",
              "75%           4.337399e+08         141843.750000   37569.750000   \n",
              "max           6.196162e+09         521445.000000  639375.000000   \n",
              "\n",
              "       Average viewers     Followers  Followers gained  Views gained  \n",
              "count      1000.000000  1.000000e+03      1.000000e+03  1.000000e+03  \n",
              "mean       4781.040000  5.700541e+05      2.055185e+05  1.166817e+07  \n",
              "std        8453.684965  8.044134e+05      3.399137e+05  2.490572e+07  \n",
              "min         235.000000  3.660000e+03     -1.577200e+04  1.757880e+05  \n",
              "25%        1457.750000  1.705462e+05      4.375825e+04  3.880602e+06  \n",
              "50%        2425.000000  3.180630e+05      9.835200e+04  6.456324e+06  \n",
              "75%        4786.250000  6.243322e+05      2.361308e+05  1.219676e+07  \n",
              "max      147643.000000  8.938903e+06      3.966525e+06  6.701375e+08  "
            ],
            "text/html": [
              "\n",
              "  <div id=\"df-3531be5d-ed15-4fe8-b083-9c6836a976b6\">\n",
              "    <div class=\"colab-df-container\">\n",
              "      <div>\n",
              "<style scoped>\n",
              "    .dataframe tbody tr th:only-of-type {\n",
              "        vertical-align: middle;\n",
              "    }\n",
              "\n",
              "    .dataframe tbody tr th {\n",
              "        vertical-align: top;\n",
              "    }\n",
              "\n",
              "    .dataframe thead th {\n",
              "        text-align: right;\n",
              "    }\n",
              "</style>\n",
              "<table border=\"1\" class=\"dataframe\">\n",
              "  <thead>\n",
              "    <tr style=\"text-align: right;\">\n",
              "      <th></th>\n",
              "      <th>Watch time(Minutes)</th>\n",
              "      <th>Stream time(minutes)</th>\n",
              "      <th>Peak viewers</th>\n",
              "      <th>Average viewers</th>\n",
              "      <th>Followers</th>\n",
              "      <th>Followers gained</th>\n",
              "      <th>Views gained</th>\n",
              "    </tr>\n",
              "  </thead>\n",
              "  <tbody>\n",
              "    <tr>\n",
              "      <th>count</th>\n",
              "      <td>1.000000e+03</td>\n",
              "      <td>1000.000000</td>\n",
              "      <td>1000.000000</td>\n",
              "      <td>1000.000000</td>\n",
              "      <td>1.000000e+03</td>\n",
              "      <td>1.000000e+03</td>\n",
              "      <td>1.000000e+03</td>\n",
              "    </tr>\n",
              "    <tr>\n",
              "      <th>mean</th>\n",
              "      <td>4.184279e+08</td>\n",
              "      <td>120515.160000</td>\n",
              "      <td>37065.051000</td>\n",
              "      <td>4781.040000</td>\n",
              "      <td>5.700541e+05</td>\n",
              "      <td>2.055185e+05</td>\n",
              "      <td>1.166817e+07</td>\n",
              "    </tr>\n",
              "    <tr>\n",
              "      <th>std</th>\n",
              "      <td>5.496355e+08</td>\n",
              "      <td>85376.201364</td>\n",
              "      <td>60314.307686</td>\n",
              "      <td>8453.684965</td>\n",
              "      <td>8.044134e+05</td>\n",
              "      <td>3.399137e+05</td>\n",
              "      <td>2.490572e+07</td>\n",
              "    </tr>\n",
              "    <tr>\n",
              "      <th>min</th>\n",
              "      <td>1.221928e+08</td>\n",
              "      <td>3465.000000</td>\n",
              "      <td>496.000000</td>\n",
              "      <td>235.000000</td>\n",
              "      <td>3.660000e+03</td>\n",
              "      <td>-1.577200e+04</td>\n",
              "      <td>1.757880e+05</td>\n",
              "    </tr>\n",
              "    <tr>\n",
              "      <th>25%</th>\n",
              "      <td>1.631899e+08</td>\n",
              "      <td>73758.750000</td>\n",
              "      <td>9113.750000</td>\n",
              "      <td>1457.750000</td>\n",
              "      <td>1.705462e+05</td>\n",
              "      <td>4.375825e+04</td>\n",
              "      <td>3.880602e+06</td>\n",
              "    </tr>\n",
              "    <tr>\n",
              "      <th>50%</th>\n",
              "      <td>2.349908e+08</td>\n",
              "      <td>108240.000000</td>\n",
              "      <td>16676.000000</td>\n",
              "      <td>2425.000000</td>\n",
              "      <td>3.180630e+05</td>\n",
              "      <td>9.835200e+04</td>\n",
              "      <td>6.456324e+06</td>\n",
              "    </tr>\n",
              "    <tr>\n",
              "      <th>75%</th>\n",
              "      <td>4.337399e+08</td>\n",
              "      <td>141843.750000</td>\n",
              "      <td>37569.750000</td>\n",
              "      <td>4786.250000</td>\n",
              "      <td>6.243322e+05</td>\n",
              "      <td>2.361308e+05</td>\n",
              "      <td>1.219676e+07</td>\n",
              "    </tr>\n",
              "    <tr>\n",
              "      <th>max</th>\n",
              "      <td>6.196162e+09</td>\n",
              "      <td>521445.000000</td>\n",
              "      <td>639375.000000</td>\n",
              "      <td>147643.000000</td>\n",
              "      <td>8.938903e+06</td>\n",
              "      <td>3.966525e+06</td>\n",
              "      <td>6.701375e+08</td>\n",
              "    </tr>\n",
              "  </tbody>\n",
              "</table>\n",
              "</div>\n",
              "      <button class=\"colab-df-convert\" onclick=\"convertToInteractive('df-3531be5d-ed15-4fe8-b083-9c6836a976b6')\"\n",
              "              title=\"Convert this dataframe to an interactive table.\"\n",
              "              style=\"display:none;\">\n",
              "        \n",
              "  <svg xmlns=\"http://www.w3.org/2000/svg\" height=\"24px\"viewBox=\"0 0 24 24\"\n",
              "       width=\"24px\">\n",
              "    <path d=\"M0 0h24v24H0V0z\" fill=\"none\"/>\n",
              "    <path d=\"M18.56 5.44l.94 2.06.94-2.06 2.06-.94-2.06-.94-.94-2.06-.94 2.06-2.06.94zm-11 1L8.5 8.5l.94-2.06 2.06-.94-2.06-.94L8.5 2.5l-.94 2.06-2.06.94zm10 10l.94 2.06.94-2.06 2.06-.94-2.06-.94-.94-2.06-.94 2.06-2.06.94z\"/><path d=\"M17.41 7.96l-1.37-1.37c-.4-.4-.92-.59-1.43-.59-.52 0-1.04.2-1.43.59L10.3 9.45l-7.72 7.72c-.78.78-.78 2.05 0 2.83L4 21.41c.39.39.9.59 1.41.59.51 0 1.02-.2 1.41-.59l7.78-7.78 2.81-2.81c.8-.78.8-2.07 0-2.86zM5.41 20L4 18.59l7.72-7.72 1.47 1.35L5.41 20z\"/>\n",
              "  </svg>\n",
              "      </button>\n",
              "      \n",
              "  <style>\n",
              "    .colab-df-container {\n",
              "      display:flex;\n",
              "      flex-wrap:wrap;\n",
              "      gap: 12px;\n",
              "    }\n",
              "\n",
              "    .colab-df-convert {\n",
              "      background-color: #E8F0FE;\n",
              "      border: none;\n",
              "      border-radius: 50%;\n",
              "      cursor: pointer;\n",
              "      display: none;\n",
              "      fill: #1967D2;\n",
              "      height: 32px;\n",
              "      padding: 0 0 0 0;\n",
              "      width: 32px;\n",
              "    }\n",
              "\n",
              "    .colab-df-convert:hover {\n",
              "      background-color: #E2EBFA;\n",
              "      box-shadow: 0px 1px 2px rgba(60, 64, 67, 0.3), 0px 1px 3px 1px rgba(60, 64, 67, 0.15);\n",
              "      fill: #174EA6;\n",
              "    }\n",
              "\n",
              "    [theme=dark] .colab-df-convert {\n",
              "      background-color: #3B4455;\n",
              "      fill: #D2E3FC;\n",
              "    }\n",
              "\n",
              "    [theme=dark] .colab-df-convert:hover {\n",
              "      background-color: #434B5C;\n",
              "      box-shadow: 0px 1px 3px 1px rgba(0, 0, 0, 0.15);\n",
              "      filter: drop-shadow(0px 1px 2px rgba(0, 0, 0, 0.3));\n",
              "      fill: #FFFFFF;\n",
              "    }\n",
              "  </style>\n",
              "\n",
              "      <script>\n",
              "        const buttonEl =\n",
              "          document.querySelector('#df-3531be5d-ed15-4fe8-b083-9c6836a976b6 button.colab-df-convert');\n",
              "        buttonEl.style.display =\n",
              "          google.colab.kernel.accessAllowed ? 'block' : 'none';\n",
              "\n",
              "        async function convertToInteractive(key) {\n",
              "          const element = document.querySelector('#df-3531be5d-ed15-4fe8-b083-9c6836a976b6');\n",
              "          const dataTable =\n",
              "            await google.colab.kernel.invokeFunction('convertToInteractive',\n",
              "                                                     [key], {});\n",
              "          if (!dataTable) return;\n",
              "\n",
              "          const docLinkHtml = 'Like what you see? Visit the ' +\n",
              "            '<a target=\"_blank\" href=https://colab.research.google.com/notebooks/data_table.ipynb>data table notebook</a>'\n",
              "            + ' to learn more about interactive tables.';\n",
              "          element.innerHTML = '';\n",
              "          dataTable['output_type'] = 'display_data';\n",
              "          await google.colab.output.renderOutput(dataTable, element);\n",
              "          const docLink = document.createElement('div');\n",
              "          docLink.innerHTML = docLinkHtml;\n",
              "          element.appendChild(docLink);\n",
              "        }\n",
              "      </script>\n",
              "    </div>\n",
              "  </div>\n",
              "  "
            ]
          },
          "metadata": {},
          "execution_count": 6
        }
      ]
    },
    {
      "cell_type": "code",
      "source": [
        "twitch_df.isnull().sum().sort_values()"
      ],
      "metadata": {
        "id": "sOyQa6RpUvYG",
        "colab": {
          "base_uri": "https://localhost:8080/"
        },
        "outputId": "67d5357d-8ca4-4e78-be4f-c0eab9269d13"
      },
      "execution_count": null,
      "outputs": [
        {
          "output_type": "execute_result",
          "data": {
            "text/plain": [
              "Channel                 0\n",
              "Watch time(Minutes)     0\n",
              "Stream time(minutes)    0\n",
              "Peak viewers            0\n",
              "Average viewers         0\n",
              "Followers               0\n",
              "Followers gained        0\n",
              "Views gained            0\n",
              "Partnered               0\n",
              "Mature                  0\n",
              "Language                0\n",
              "dtype: int64"
            ]
          },
          "metadata": {},
          "execution_count": 9
        }
      ]
    },
    {
      "cell_type": "code",
      "source": [
        "null_rows = twitch_df[twitch_df.isnull().any(axis=1)]\n",
        "null_rows.head()"
      ],
      "metadata": {
        "id": "a3jvq2QBV8lP"
      },
      "execution_count": null,
      "outputs": []
    },
    {
      "cell_type": "code",
      "source": [
        "null_rows.info()"
      ],
      "metadata": {
        "id": "9fSJ1VbMWJhJ",
        "colab": {
          "base_uri": "https://localhost:8080/"
        },
        "outputId": "2b6dfd9b-f79f-4206-fe2e-113fd849092e"
      },
      "execution_count": null,
      "outputs": [
        {
          "output_type": "stream",
          "name": "stdout",
          "text": [
            "<class 'pandas.core.frame.DataFrame'>\n",
            "Int64Index: 0 entries\n",
            "Data columns (total 11 columns):\n",
            " #   Column                Non-Null Count  Dtype \n",
            "---  ------                --------------  ----- \n",
            " 0   Channel               0 non-null      object\n",
            " 1   Watch time(Minutes)   0 non-null      int64 \n",
            " 2   Stream time(minutes)  0 non-null      int64 \n",
            " 3   Peak viewers          0 non-null      int64 \n",
            " 4   Average viewers       0 non-null      int64 \n",
            " 5   Followers             0 non-null      int64 \n",
            " 6   Followers gained      0 non-null      int64 \n",
            " 7   Views gained          0 non-null      int64 \n",
            " 8   Partnered             0 non-null      bool  \n",
            " 9   Mature                0 non-null      bool  \n",
            " 10  Language              0 non-null      object\n",
            "dtypes: bool(2), int64(7), object(2)\n",
            "memory usage: 0.0+ bytes\n"
          ]
        }
      ]
    },
    {
      "cell_type": "code",
      "source": [
        "zero_filled = null_rows.fillna(0)\n",
        "zero_filled.head(10)\n"
      ],
      "metadata": {
        "id": "1GZULSl6WcU_",
        "colab": {
          "base_uri": "https://localhost:8080/",
          "height": 111
        },
        "outputId": "a026c08b-8f1a-47ba-ce52-1a139a9b33ea"
      },
      "execution_count": null,
      "outputs": [
        {
          "output_type": "execute_result",
          "data": {
            "text/plain": [
              "Empty DataFrame\n",
              "Columns: [Channel, Watch time(Minutes), Stream time(minutes), Peak viewers, Average viewers, Followers, Followers gained, Views gained, Partnered, Mature, Language]\n",
              "Index: []"
            ],
            "text/html": [
              "\n",
              "  <div id=\"df-c669ab07-ea92-4fad-b59a-d1b63968efb0\">\n",
              "    <div class=\"colab-df-container\">\n",
              "      <div>\n",
              "<style scoped>\n",
              "    .dataframe tbody tr th:only-of-type {\n",
              "        vertical-align: middle;\n",
              "    }\n",
              "\n",
              "    .dataframe tbody tr th {\n",
              "        vertical-align: top;\n",
              "    }\n",
              "\n",
              "    .dataframe thead th {\n",
              "        text-align: right;\n",
              "    }\n",
              "</style>\n",
              "<table border=\"1\" class=\"dataframe\">\n",
              "  <thead>\n",
              "    <tr style=\"text-align: right;\">\n",
              "      <th></th>\n",
              "      <th>Channel</th>\n",
              "      <th>Watch time(Minutes)</th>\n",
              "      <th>Stream time(minutes)</th>\n",
              "      <th>Peak viewers</th>\n",
              "      <th>Average viewers</th>\n",
              "      <th>Followers</th>\n",
              "      <th>Followers gained</th>\n",
              "      <th>Views gained</th>\n",
              "      <th>Partnered</th>\n",
              "      <th>Mature</th>\n",
              "      <th>Language</th>\n",
              "    </tr>\n",
              "  </thead>\n",
              "  <tbody>\n",
              "  </tbody>\n",
              "</table>\n",
              "</div>\n",
              "      <button class=\"colab-df-convert\" onclick=\"convertToInteractive('df-c669ab07-ea92-4fad-b59a-d1b63968efb0')\"\n",
              "              title=\"Convert this dataframe to an interactive table.\"\n",
              "              style=\"display:none;\">\n",
              "        \n",
              "  <svg xmlns=\"http://www.w3.org/2000/svg\" height=\"24px\"viewBox=\"0 0 24 24\"\n",
              "       width=\"24px\">\n",
              "    <path d=\"M0 0h24v24H0V0z\" fill=\"none\"/>\n",
              "    <path d=\"M18.56 5.44l.94 2.06.94-2.06 2.06-.94-2.06-.94-.94-2.06-.94 2.06-2.06.94zm-11 1L8.5 8.5l.94-2.06 2.06-.94-2.06-.94L8.5 2.5l-.94 2.06-2.06.94zm10 10l.94 2.06.94-2.06 2.06-.94-2.06-.94-.94-2.06-.94 2.06-2.06.94z\"/><path d=\"M17.41 7.96l-1.37-1.37c-.4-.4-.92-.59-1.43-.59-.52 0-1.04.2-1.43.59L10.3 9.45l-7.72 7.72c-.78.78-.78 2.05 0 2.83L4 21.41c.39.39.9.59 1.41.59.51 0 1.02-.2 1.41-.59l7.78-7.78 2.81-2.81c.8-.78.8-2.07 0-2.86zM5.41 20L4 18.59l7.72-7.72 1.47 1.35L5.41 20z\"/>\n",
              "  </svg>\n",
              "      </button>\n",
              "      \n",
              "  <style>\n",
              "    .colab-df-container {\n",
              "      display:flex;\n",
              "      flex-wrap:wrap;\n",
              "      gap: 12px;\n",
              "    }\n",
              "\n",
              "    .colab-df-convert {\n",
              "      background-color: #E8F0FE;\n",
              "      border: none;\n",
              "      border-radius: 50%;\n",
              "      cursor: pointer;\n",
              "      display: none;\n",
              "      fill: #1967D2;\n",
              "      height: 32px;\n",
              "      padding: 0 0 0 0;\n",
              "      width: 32px;\n",
              "    }\n",
              "\n",
              "    .colab-df-convert:hover {\n",
              "      background-color: #E2EBFA;\n",
              "      box-shadow: 0px 1px 2px rgba(60, 64, 67, 0.3), 0px 1px 3px 1px rgba(60, 64, 67, 0.15);\n",
              "      fill: #174EA6;\n",
              "    }\n",
              "\n",
              "    [theme=dark] .colab-df-convert {\n",
              "      background-color: #3B4455;\n",
              "      fill: #D2E3FC;\n",
              "    }\n",
              "\n",
              "    [theme=dark] .colab-df-convert:hover {\n",
              "      background-color: #434B5C;\n",
              "      box-shadow: 0px 1px 3px 1px rgba(0, 0, 0, 0.15);\n",
              "      filter: drop-shadow(0px 1px 2px rgba(0, 0, 0, 0.3));\n",
              "      fill: #FFFFFF;\n",
              "    }\n",
              "  </style>\n",
              "\n",
              "      <script>\n",
              "        const buttonEl =\n",
              "          document.querySelector('#df-c669ab07-ea92-4fad-b59a-d1b63968efb0 button.colab-df-convert');\n",
              "        buttonEl.style.display =\n",
              "          google.colab.kernel.accessAllowed ? 'block' : 'none';\n",
              "\n",
              "        async function convertToInteractive(key) {\n",
              "          const element = document.querySelector('#df-c669ab07-ea92-4fad-b59a-d1b63968efb0');\n",
              "          const dataTable =\n",
              "            await google.colab.kernel.invokeFunction('convertToInteractive',\n",
              "                                                     [key], {});\n",
              "          if (!dataTable) return;\n",
              "\n",
              "          const docLinkHtml = 'Like what you see? Visit the ' +\n",
              "            '<a target=\"_blank\" href=https://colab.research.google.com/notebooks/data_table.ipynb>data table notebook</a>'\n",
              "            + ' to learn more about interactive tables.';\n",
              "          element.innerHTML = '';\n",
              "          dataTable['output_type'] = 'display_data';\n",
              "          await google.colab.output.renderOutput(dataTable, element);\n",
              "          const docLink = document.createElement('div');\n",
              "          docLink.innerHTML = docLinkHtml;\n",
              "          element.appendChild(docLink);\n",
              "        }\n",
              "      </script>\n",
              "    </div>\n",
              "  </div>\n",
              "  "
            ]
          },
          "metadata": {},
          "execution_count": 9
        }
      ]
    },
    {
      "cell_type": "code",
      "source": [
        "twitch_df['Mature'].value_counts()"
      ],
      "metadata": {
        "id": "4Zf3m2B_KJl7",
        "colab": {
          "base_uri": "https://localhost:8080/"
        },
        "outputId": "7f8b257e-7921-49cc-a98f-bce6f0aeeef7"
      },
      "execution_count": null,
      "outputs": [
        {
          "output_type": "execute_result",
          "data": {
            "text/plain": [
              "False    770\n",
              "True     230\n",
              "Name: Mature, dtype: int64"
            ]
          },
          "metadata": {},
          "execution_count": 10
        }
      ]
    },
    {
      "cell_type": "markdown",
      "source": [
        "##HYPOTHESIS 1\n",
        "Null Hypothesis: There is no significant difference is follower count between Mature(18+) streamers and general(all ages) streamers.\n",
        "\n",
        "Alt. Hypothesis: There is a significant difference is follower count between Mature(18+) streamers and general(all ages) streamers."
      ],
      "metadata": {
        "id": "62AZvJrFMlJw"
      }
    },
    {
      "cell_type": "code",
      "source": [
        "twitch_df_Mature = twitch_df.loc[twitch_df['Mature'] == True]\n",
        "twitch_df_General = twitch_df.loc[twitch_df['Mature'] == False]"
      ],
      "metadata": {
        "id": "C-GeCMKUor-0"
      },
      "execution_count": null,
      "outputs": []
    },
    {
      "cell_type": "code",
      "source": [
        "sns.boxplot(y = twitch_df['Followers'], x = twitch_df['Mature'])"
      ],
      "metadata": {
        "id": "n7kNRGNZLkYG",
        "colab": {
          "base_uri": "https://localhost:8080/",
          "height": 313
        },
        "outputId": "7a3bd7ad-7803-4efd-c838-8a4641d16d22"
      },
      "execution_count": null,
      "outputs": [
        {
          "output_type": "execute_result",
          "data": {
            "text/plain": [
              "<matplotlib.axes._subplots.AxesSubplot at 0x7f460ad66400>"
            ]
          },
          "metadata": {},
          "execution_count": 12
        },
        {
          "output_type": "display_data",
          "data": {
            "text/plain": [
              "<Figure size 432x288 with 1 Axes>"
            ],
            "image/png": "[encoded data removed]"
          },
          "metadata": {}
        }
      ]
    },
    {
      "cell_type": "code",
      "source": [
        "sns.scatterplot(x='Followers', y='Followers gained', hue='Mature', data=twitch_df)"
      ],
      "metadata": {
        "id": "jahzTQUcoMmf",
        "colab": {
          "base_uri": "https://localhost:8080/",
          "height": 313
        },
        "outputId": "6d8a6b6f-ead8-4162-b7a7-6844dafc10f1"
      },
      "execution_count": null,
      "outputs": [
        {
          "output_type": "execute_result",
          "data": {
            "text/plain": [
              "<matplotlib.axes._subplots.AxesSubplot at 0x7f460aca62e0>"
            ]
          },
          "metadata": {},
          "execution_count": 13
        },
        {
          "output_type": "display_data",
          "data": {
            "text/plain": [
              "<Figure size 432x288 with 1 Axes>"
            ],
            "image/png": "[encoded data removed]"
          },
          "metadata": {}
        }
      ]
    },
    {
      "cell_type": "code",
      "source": [
        "sns.histplot(twitch_df_Mature[\"Followers\"])"
      ],
      "metadata": {
        "id": "luwJdvpZo304",
        "colab": {
          "base_uri": "https://localhost:8080/",
          "height": 302
        },
        "outputId": "c75becec-82b1-4a92-d185-d80af091dd2a"
      },
      "execution_count": null,
      "outputs": [
        {
          "output_type": "execute_result",
          "data": {
            "text/plain": [
              "<matplotlib.axes._subplots.AxesSubplot at 0x7f460a7e8730>"
            ]
          },
          "metadata": {},
          "execution_count": 14
        },
        {
          "output_type": "display_data",
          "data": {
            "text/plain": [
              "<Figure size 432x288 with 1 Axes>"
            ],
            "image/png": "[encoded data removed]"
          },
          "metadata": {}
        }
      ]
    },
    {
      "cell_type": "code",
      "source": [
        "sns.histplot(twitch_df_General[\"Followers\"])"
      ],
      "metadata": {
        "id": "ngLKehT5o7go",
        "colab": {
          "base_uri": "https://localhost:8080/",
          "height": 302
        },
        "outputId": "eb47cf1d-e772-4147-8df2-41f6e73d657e"
      },
      "execution_count": null,
      "outputs": [
        {
          "output_type": "execute_result",
          "data": {
            "text/plain": [
              "<matplotlib.axes._subplots.AxesSubplot at 0x7f460a7e87f0>"
            ]
          },
          "metadata": {},
          "execution_count": 15
        },
        {
          "output_type": "display_data",
          "data": {
            "text/plain": [
              "<Figure size 432x288 with 1 Axes>"
            ],
            "image/png": "[encoded data removed]"
          },
          "metadata": {}
        }
      ]
    },
    {
      "cell_type": "code",
      "source": [
        "plt.figure(figsize=(18,5))\n",
        "\n",
        "plt.subplot(1,3,1)\n",
        "plt.scatter(twitch_df_Mature[\"Followers\"], twitch_df_Mature[\"Followers\"])\n",
        "plt.title(\"Mature Follower Count\")\n",
        "\n",
        "plt.subplot(1,3,2)\n",
        "plt.scatter(twitch_df_General[\"Followers\"], twitch_df_General[\"Followers\"])\n",
        "plt.title(\"General Follower Count\")\n",
        "\n",
        "plt.show()\n"
      ],
      "metadata": {
        "id": "6__MiGzmkzxG",
        "colab": {
          "base_uri": "https://localhost:8080/",
          "height": 351
        },
        "outputId": "4ebcfd47-f330-4740-c34a-1784dbbd7aaf"
      },
      "execution_count": null,
      "outputs": [
        {
          "output_type": "display_data",
          "data": {
            "text/plain": [
              "<Figure size 1296x360 with 2 Axes>"
            ],
            "image/png": "[encoded data removed]"
          },
          "metadata": {}
        }
      ]
    },
    {
      "cell_type": "code",
      "source": [
        "stats.pearsonr(twitch_df['Followers'],twitch_df['Followers gained'])"
      ],
      "metadata": {
        "id": "YzrGzDUCYT3t",
        "colab": {
          "base_uri": "https://localhost:8080/"
        },
        "outputId": "2773b5b7-6ae9-429c-c052-c352ba400885"
      },
      "execution_count": null,
      "outputs": [
        {
          "output_type": "execute_result",
          "data": {
            "text/plain": [
              "(0.7156184583458499, 1.0469037954811538e-157)"
            ]
          },
          "metadata": {},
          "execution_count": 17
        }
      ]
    },
    {
      "cell_type": "code",
      "source": [
        "stats.ttest_ind(twitch_df_Mature['Followers'], twitch_df_General['Followers'])"
      ],
      "metadata": {
        "colab": {
          "base_uri": "https://localhost:8080/"
        },
        "id": "tf6VmUWtEeQ2",
        "outputId": "66cd7366-5161-4ea6-c276-2f8e5d5d15c0"
      },
      "execution_count": null,
      "outputs": [
        {
          "output_type": "execute_result",
          "data": {
            "text/plain": [
              "Ttest_indResult(statistic=-2.8074935086573842, pvalue=0.005090151971780063)"
            ]
          },
          "metadata": {},
          "execution_count": 18
        }
      ]
    },
    {
      "cell_type": "markdown",
      "source": [
        "From the scatter plots we can see that there is a presence of a significance difference/correlation between the follower count of mature streamers and general streamers, with general streamers having more. **Null hypothesis rejected**"
      ],
      "metadata": {
        "id": "doKKezd2j5Wo"
      }
    },
    {
      "cell_type": "markdown",
      "source": [
        "###HYPOTHESIS 2\n",
        "Null Hypothesis: There is no difference between the stream time of both groups. \n",
        "\n",
        "Alt. Hypothesis: There is a signifcant difference in stream time between both groups. "
      ],
      "metadata": {
        "id": "am8wtkF9EwY2"
      }
    },
    {
      "cell_type": "code",
      "source": [
        "sns.boxplot(y = twitch_df['Stream time(minutes)'], x = twitch_df['Mature'])"
      ],
      "metadata": {
        "id": "6jdTaPuzMMr6",
        "colab": {
          "base_uri": "https://localhost:8080/",
          "height": 302
        },
        "outputId": "5de9d68c-c122-4159-ccc2-e14e8ed6591d"
      },
      "execution_count": null,
      "outputs": [
        {
          "output_type": "execute_result",
          "data": {
            "text/plain": [
              "<matplotlib.axes._subplots.AxesSubplot at 0x7f460a522490>"
            ]
          },
          "metadata": {},
          "execution_count": 19
        },
        {
          "output_type": "display_data",
          "data": {
            "text/plain": [
              "<Figure size 432x288 with 1 Axes>"
            ],
            "image/png": "[encoded data removed]"
          },
          "metadata": {}
        }
      ]
    },
    {
      "cell_type": "code",
      "source": [
        "sns.scatterplot(x='Stream time(minutes)', y='Views gained', hue='Mature', data=twitch_df)"
      ],
      "metadata": {
        "id": "j0w5QHFPMxIV",
        "colab": {
          "base_uri": "https://localhost:8080/",
          "height": 313
        },
        "outputId": "d6500f3c-d11b-4f50-bb0a-946d7e24b87f"
      },
      "execution_count": null,
      "outputs": [
        {
          "output_type": "execute_result",
          "data": {
            "text/plain": [
              "<matplotlib.axes._subplots.AxesSubplot at 0x7f460a48af40>"
            ]
          },
          "metadata": {},
          "execution_count": 20
        },
        {
          "output_type": "display_data",
          "data": {
            "text/plain": [
              "<Figure size 432x288 with 1 Axes>"
            ],
            "image/png": "[encoded data removed]"
          },
          "metadata": {}
        }
      ]
    },
    {
      "cell_type": "code",
      "source": [
        "sns.histplot(twitch_df_Mature[\"Stream time(minutes)\"])"
      ],
      "metadata": {
        "id": "gOPcLJKkP8h-",
        "colab": {
          "base_uri": "https://localhost:8080/",
          "height": 302
        },
        "outputId": "0b14a061-9078-4270-b436-3e7da2d9481e"
      },
      "execution_count": null,
      "outputs": [
        {
          "output_type": "execute_result",
          "data": {
            "text/plain": [
              "<matplotlib.axes._subplots.AxesSubplot at 0x7f460a475280>"
            ]
          },
          "metadata": {},
          "execution_count": 21
        },
        {
          "output_type": "display_data",
          "data": {
            "text/plain": [
              "<Figure size 432x288 with 1 Axes>"
            ],
            "image/png": "[encoded data removed]"
          },
          "metadata": {}
        }
      ]
    },
    {
      "cell_type": "code",
      "source": [
        "sns.histplot(twitch_df_General[\"Stream time(minutes)\"])"
      ],
      "metadata": {
        "id": "MaTKNQw7QHwG",
        "colab": {
          "base_uri": "https://localhost:8080/",
          "height": 304
        },
        "outputId": "caf6cbf9-29fa-49ba-a2a9-dac457b23bc0"
      },
      "execution_count": null,
      "outputs": [
        {
          "output_type": "execute_result",
          "data": {
            "text/plain": [
              "<matplotlib.axes._subplots.AxesSubplot at 0x7f460a41b760>"
            ]
          },
          "metadata": {},
          "execution_count": 22
        },
        {
          "output_type": "display_data",
          "data": {
            "text/plain": [
              "<Figure size 432x288 with 1 Axes>"
            ],
            "image/png": "[encoded data removed]"
          },
          "metadata": {}
        }
      ]
    },
    {
      "cell_type": "code",
      "source": [
        "stats.ttest_ind(twitch_df_Mature['Stream time(minutes)'], twitch_df_General['Stream time(minutes)'])"
      ],
      "metadata": {
        "colab": {
          "base_uri": "https://localhost:8080/"
        },
        "id": "kUvfen9lQX9K",
        "outputId": "d4e23baa-49da-40a2-a063-9a4b6a8ecbc8"
      },
      "execution_count": null,
      "outputs": [
        {
          "output_type": "execute_result",
          "data": {
            "text/plain": [
              "Ttest_indResult(statistic=1.4223352450267488, pvalue=0.15524141327284724)"
            ]
          },
          "metadata": {},
          "execution_count": 23
        }
      ]
    },
    {
      "cell_type": "markdown",
      "source": [
        "Based off the t-test we see that there is no significant difference in stream time between 18+ streamers and the general streamers. The 18+ streamers have a higher stream time. **Fail to Reject Null hypothesis**"
      ],
      "metadata": {
        "id": "-GdsnP6lkPkU"
      }
    },
    {
      "cell_type": "markdown",
      "source": [
        "###Recommendations\n",
        "\n",
        "Based on findings from both hypotheses, we can learn from both groups how to have a more successful Twitch channel. If your goal is to increase more followers/the number of people the channel regularly interacts with, I would suggest paying attention to general(all ages) streamers who were tested to have a higher average follower count.\n",
        "\n",
        "Instead, if your goal is to increase stream time/the time you spend actually interacting with your viewers, Mature(18+) channels can be an example for maximizing stream time. \n",
        "\n",
        "Additionally, companies who wish to endorse/sponsor streamers can take advantage of both audiences. As Twitch is increasing in popularity, partnering with streamers has become an easy way to advertise products and services. I would recommend that they invest in Mature(18+) channels, as they have been shown to spend more time interacting with their viewers.\n"
      ],
      "metadata": {
        "id": "KTcHgCifhSsK"
      }
    }
  ]
}